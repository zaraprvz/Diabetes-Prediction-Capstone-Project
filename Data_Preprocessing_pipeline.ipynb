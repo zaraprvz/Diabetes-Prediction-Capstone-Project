{
  "nbformat": 4,
  "nbformat_minor": 0,
  "metadata": {
    "colab": {
      "provenance": [],
      "authorship_tag": "ABX9TyNqAZf5yGsxsBv+dvbvBBXw",
      "include_colab_link": true
    },
    "kernelspec": {
      "name": "python3",
      "display_name": "Python 3"
    },
    "language_info": {
      "name": "python"
    }
  },
  "cells": [
    {
      "cell_type": "markdown",
      "metadata": {
        "id": "view-in-github",
        "colab_type": "text"
      },
      "source": [
        "<a href=\"https://colab.research.google.com/github/zaraprvz/Diabetes-Prediction-Capstone-Project/blob/main/Data_Preprocessing_pipeline.ipynb\" target=\"_parent\"><img src=\"https://colab.research.google.com/assets/colab-badge.svg\" alt=\"Open In Colab\"/></a>"
      ]
    },
    {
      "cell_type": "code",
      "execution_count": null,
      "metadata": {
        "id": "Cu_m_lfERMW8"
      },
      "outputs": [],
      "source": [
        "#Data Preprocessing pipeline\n",
        "def preprocess_data_pipeline(data):\n",
        "  #Numeric and categorical data\n",
        "  numeric_data = data.select_dtypes(include=['float', 'int']).columns\n",
        "  categorical_data = data.select_dtypes(include=['object']).columns\n",
        "\n",
        "  #handle missing values\n",
        "  data[numeric_data] = data[numeric_data].fillna[data[numeric_data].mean())\n",
        "\n",
        "#Detect and handle outliers in numeric features using IQR\n",
        "for feature in numeric_data:\n",
        "Q1 = data[feature].quantile(0.25)\n",
        "Q3 = data[feature].quantile(0.75)\n",
        "IQR = Q3 - Q1\n",
        "\n",
        "#Normalize standard scaler\n",
        "\n",
        "from sklearn.preprocessing import StandardScaler\n",
        "scaler = StandardScaler()\n",
        "scaled_data = scaler.fit_transform(data[numeric_features])"
      ]
    }
  ]
}