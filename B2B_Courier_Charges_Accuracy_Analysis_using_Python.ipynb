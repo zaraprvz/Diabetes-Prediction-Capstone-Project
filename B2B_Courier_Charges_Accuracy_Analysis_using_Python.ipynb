{
  "cells": [
    {
      "cell_type": "markdown",
      "metadata": {
        "id": "view-in-github",
        "colab_type": "text"
      },
      "source": [
        "<a href=\"https://colab.research.google.com/github/zaraprvz/Diabetes-Prediction-Capstone-Project/blob/main/B2B_Courier_Charges_Accuracy_Analysis_using_Python.ipynb\" target=\"_parent\"><img src=\"https://colab.research.google.com/assets/colab-badge.svg\" alt=\"Open In Colab\"/></a>"
      ]
    },
    {
      "cell_type": "code",
      "execution_count": 3,
      "metadata": {
        "colab": {
          "base_uri": "https://localhost:8080/"
        },
        "id": "-RZqBtgEJoUT",
        "outputId": "dbda0fa7-3a05-4a36-bf96-ff03be3de481"
      },
      "outputs": [
        {
          "output_type": "execute_result",
          "data": {
            "text/plain": [
              "['Archive:  /content/b2b (2).zip',\n",
              " '  inflating: Courier Company - Rates.csv  ',\n",
              " '  inflating: __MACOSX/._Courier Company - Rates.csv  ',\n",
              " '  inflating: Invoice.csv             ',\n",
              " '  inflating: __MACOSX/._Invoice.csv  ',\n",
              " '  inflating: Order Report.csv        ',\n",
              " '  inflating: __MACOSX/._Order Report.csv  ',\n",
              " '  inflating: pincodes.csv            ',\n",
              " '  inflating: __MACOSX/._pincodes.csv  ',\n",
              " '  inflating: SKU Master.csv          ',\n",
              " '  inflating: __MACOSX/._SKU Master.csv  ']"
            ]
          },
          "metadata": {},
          "execution_count": 3
        }
      ],
      "source": [
        "#unzip file\n",
        "!!unzip \"/content/b2b (2).zip\""
      ]
    },
    {
      "cell_type": "code",
      "execution_count": 4,
      "metadata": {
        "id": "KR6pvCMKGEXQ",
        "colab": {
          "base_uri": "https://localhost:8080/"
        },
        "outputId": "8fe6ee73-e2f0-40d7-8263-dc8cbc9ed147"
      },
      "outputs": [
        {
          "output_type": "stream",
          "name": "stdout",
          "text": [
            "   ExternOrderNo            SKU  Order Qty  Unnamed: 3  Unnamed: 4\n",
            "0     2001827036  8904223818706        1.0         NaN         NaN\n",
            "1     2001827036  8904223819093        1.0         NaN         NaN\n",
            "2     2001827036  8904223819109        1.0         NaN         NaN\n",
            "3     2001827036  8904223818430        1.0         NaN         NaN\n",
            "4     2001827036  8904223819277        1.0         NaN         NaN\n",
            "             SKU  Weight (g)  Unnamed: 2  Unnamed: 3  Unnamed: 4\n",
            "0  8904223815682         210         NaN         NaN         NaN\n",
            "1  8904223815859         165         NaN         NaN         NaN\n",
            "2  8904223815866         113         NaN         NaN         NaN\n",
            "3  8904223815873          65         NaN         NaN         NaN\n",
            "4  8904223816214         120         NaN         NaN         NaN\n",
            "   Warehouse Pincode  Customer Pincode Zone  Unnamed: 3  Unnamed: 4\n",
            "0             121003            507101    d         NaN         NaN\n",
            "1             121003            486886    d         NaN         NaN\n",
            "2             121003            532484    d         NaN         NaN\n",
            "3             121003            143001    b         NaN         NaN\n",
            "4             121003            515591    d         NaN         NaN\n",
            "        AWB Code    Order ID  Charged Weight  Warehouse Pincode  \\\n",
            "0  1091117222124  2001806232            1.30             121003   \n",
            "1  1091117222194  2001806273            1.00             121003   \n",
            "2  1091117222931  2001806408            2.50             121003   \n",
            "3  1091117223244  2001806458            1.00             121003   \n",
            "4  1091117229345  2001807012            0.15             121003   \n",
            "\n",
            "   Customer Pincode Zone Type of Shipment  Billing Amount (Rs.)  \n",
            "0            507101    d  Forward charges                 135.0  \n",
            "1            486886    d  Forward charges                  90.2  \n",
            "2            532484    d  Forward charges                 224.6  \n",
            "3            143001    b  Forward charges                  61.3  \n",
            "4            515591    d  Forward charges                  45.4  \n",
            "   fwd_a_fixed  fwd_a_additional  fwd_b_fixed  fwd_b_additional  fwd_c_fixed  \\\n",
            "0         29.5              23.6           33              28.3         40.1   \n",
            "\n",
            "   fwd_c_additional  fwd_d_fixed  fwd_d_additional  fwd_e_fixed  \\\n",
            "0              38.9         45.4              44.8         56.6   \n",
            "\n",
            "   fwd_e_additional  rto_a_fixed  rto_a_additional  rto_b_fixed  \\\n",
            "0              55.5         13.6              23.6         20.5   \n",
            "\n",
            "   rto_b_additional  rto_c_fixed  rto_c_additional  rto_d_fixed  \\\n",
            "0              28.3         31.9              38.9         41.3   \n",
            "\n",
            "   rto_d_additional  rto_e_fixed  rto_e_additional  \n",
            "0              44.8         50.7              55.5  \n"
          ]
        }
      ],
      "source": [
        "#Import libraries\n",
        "import pandas as pd\n",
        "\n",
        "order_report = pd.read_csv('Order Report.csv')\n",
        "sku_master = pd.read_csv('SKU Master.csv')\n",
        "pincode_mapping = pd.read_csv('pincodes.csv')\n",
        "courier_invoice = pd.read_csv('Invoice.csv')\n",
        "courier_company_rates = pd.read_csv('Courier Company - Rates.csv')\n",
        "\n",
        "print(order_report.head())\n",
        "print(sku_master.head())\n",
        "print(pincode_mapping.head())\n",
        "print(courier_invoice.head())\n",
        "print(courier_company_rates.head())\n"
      ]
    },
    {
      "cell_type": "code",
      "execution_count": 5,
      "metadata": {
        "colab": {
          "base_uri": "https://localhost:8080/"
        },
        "id": "aUmRdv5BJmvl",
        "outputId": "2a1031c1-e5d9-485d-8a8f-635b5e14fb7d"
      },
      "outputs": [
        {
          "output_type": "stream",
          "name": "stdout",
          "text": [
            "\n",
            "Missing values in Website Order Report\n",
            "ExternOrderNo      0\n",
            "SKU                0\n",
            "Order Qty          0\n",
            "Unnamed: 3       400\n",
            "Unnamed: 4       400\n",
            "dtype: int64\n",
            "\n",
            "Missing values in SKU Master\n",
            "SKU            0\n",
            "Weight (g)     0\n",
            "Unnamed: 2    66\n",
            "Unnamed: 3    66\n",
            "Unnamed: 4    66\n",
            "dtype: int64\n",
            "\n",
            "Missing values in Pincode Mapping\n",
            "Warehouse Pincode      0\n",
            "Customer Pincode       0\n",
            "Zone                   0\n",
            "Unnamed: 3           124\n",
            "Unnamed: 4           124\n",
            "dtype: int64\n",
            "\n",
            "Missing values in Courier Invoice\n",
            "AWB Code                0\n",
            "Order ID                0\n",
            "Charged Weight          0\n",
            "Warehouse Pincode       0\n",
            "Customer Pincode        0\n",
            "Zone                    0\n",
            "Type of Shipment        0\n",
            "Billing Amount (Rs.)    0\n",
            "dtype: int64\n",
            "\n",
            "Missing values in Courier Company Rates\n",
            "fwd_a_fixed         0\n",
            "fwd_a_additional    0\n",
            "fwd_b_fixed         0\n",
            "fwd_b_additional    0\n",
            "fwd_c_fixed         0\n",
            "fwd_c_additional    0\n",
            "fwd_d_fixed         0\n",
            "fwd_d_additional    0\n",
            "fwd_e_fixed         0\n",
            "fwd_e_additional    0\n",
            "rto_a_fixed         0\n",
            "rto_a_additional    0\n",
            "rto_b_fixed         0\n",
            "rto_b_additional    0\n",
            "rto_c_fixed         0\n",
            "rto_c_additional    0\n",
            "rto_d_fixed         0\n",
            "rto_d_additional    0\n",
            "rto_e_fixed         0\n",
            "rto_e_additional    0\n",
            "dtype: int64\n"
          ]
        }
      ],
      "source": [
        "#Check if any data contain missing values\n",
        "print(\"\\nMissing values in Website Order Report\")\n",
        "print(order_report.isnull().sum())\n",
        "print(\"\\nMissing values in SKU Master\")\n",
        "print(sku_master.isnull().sum())\n",
        "print(\"\\nMissing values in Pincode Mapping\")\n",
        "print(pincode_mapping.isnull().sum())\n",
        "print(\"\\nMissing values in Courier Invoice\")\n",
        "print(courier_invoice.isnull().sum())\n",
        "print(\"\\nMissing values in Courier Company Rates\")\n",
        "print(courier_company_rates.isnull().sum())"
      ]
    },
    {
      "cell_type": "markdown",
      "metadata": {
        "id": "PUbeQ4vP_m3Z"
      },
      "source": [
        "Lets Clean the Data"
      ]
    },
    {
      "cell_type": "code",
      "execution_count": 6,
      "metadata": {
        "id": "LeHTjgmKJngY"
      },
      "outputs": [],
      "source": [
        "#remove unnamed coloumns from the website order report dataframe\n",
        "order_report = order_report.drop(columns=['Unnamed: 3', 'Unnamed: 4'], errors='ignore')\n",
        "\n",
        "#remove unnamed columns from SKU Master dataframe\n",
        "sku_master =sku_master.drop(columns=['Unnamed: 2', 'Unnamed: 3' , 'Unnamed: 4'], errors='ignore')\n",
        "\n",
        "#remove unnamed columns from pincode mapping dataframe\n",
        "pincode_mapping = pincode_mapping.drop(columns=['Unnamed: 3', 'Unnamed: 4'], errors='ignore')\n",
        "\n"
      ]
    },
    {
      "cell_type": "markdown",
      "metadata": {
        "id": "wU5rnRJj_jnZ"
      },
      "source": []
    },
    {
      "cell_type": "markdown",
      "source": [
        "Now lets merge Order report and SKU Master datasets according to the common SKU column"
      ],
      "metadata": {
        "id": "TeVZV6dyBALc"
      }
    },
    {
      "cell_type": "code",
      "execution_count": 7,
      "metadata": {
        "id": "tvL9rKoEul8e",
        "colab": {
          "base_uri": "https://localhost:8080/"
        },
        "outputId": "a4a61a7d-5aae-420f-d91a-c65efdafb2db"
      },
      "outputs": [
        {
          "output_type": "stream",
          "name": "stdout",
          "text": [
            "   ExternOrderNo            SKU  Order Qty  Weight (g)\n",
            "0     2001827036  8904223818706        1.0         127\n",
            "1     2001821995  8904223818706        1.0         127\n",
            "2     2001819252  8904223818706        1.0         127\n",
            "3     2001816996  8904223818706        1.0         127\n",
            "4     2001814580  8904223818706        1.0         127\n"
          ]
        }
      ],
      "source": [
        "#merge order report and SKU Master on SKU\n",
        "merged_data = pd.merge(order_report, sku_master, on='SKU')\n",
        "print(merged_data.head())"
      ]
    },
    {
      "cell_type": "markdown",
      "source": [
        "The ‘ExternOrderNo’ is nothing but ‘Order Id’ in other datasets. Let’s rename this column:"
      ],
      "metadata": {
        "id": "Gdw2GztrDmSc"
      }
    },
    {
      "cell_type": "code",
      "execution_count": 12,
      "metadata": {
        "id": "5wOGKtkBGCLv"
      },
      "outputs": [],
      "source": [
        "#Rename the \"ExternOrderNo\" column to \"OrderID\" in the merge dataframe\n",
        "merged_data = merged_data.rename(columns={'ExternOrderNo': 'Order ID'})"
      ]
    },
    {
      "cell_type": "markdown",
      "source": [
        "Now let’s merge the courier invoice and pincode mapping dataset:"
      ],
      "metadata": {
        "id": "9mqvuC9oEr7R"
      }
    },
    {
      "cell_type": "code",
      "source": [
        "#remove duplicates from pincode mapping\n",
        "abc_courier = pincode_mapping.drop_duplicates(subset=['Customer Pincode'])\n",
        "\n",
        "#We then select specific columns (“Order ID”, “Customer Pincode”, “Type of Shipment”)\n",
        "# from the courier_invoice dataset and create a new DataFrame called “courier_abc” to store this subset of data.\n",
        "courier_abc = courier_invoice[['Order ID', 'Customer Pincode', 'Type of Shipment']]\n",
        "\n",
        "#We then merge the ‘courier_abc’ DataFrame with the ‘abc_courier’ DataFrame based on the ‘Customer Pincode’ column. This merge operation helps us associate customer pin codes with their respective orders and shipping types.\n",
        "#The resulting DataFrame is named ‘pincodes’.\n",
        "pincodes = courier_abc.merge(abc_courier, on= 'Customer Pincode')\n",
        "print(pincodes.head())"
      ],
      "metadata": {
        "colab": {
          "base_uri": "https://localhost:8080/"
        },
        "id": "YnXmb1gNEs45",
        "outputId": "91e2b8ee-cb60-4f5e-b0f5-e45f72a2ad88"
      },
      "execution_count": 8,
      "outputs": [
        {
          "output_type": "stream",
          "name": "stdout",
          "text": [
            "     Order ID  Customer Pincode Type of Shipment  Warehouse Pincode Zone\n",
            "0  2001806232            507101  Forward charges             121003    d\n",
            "1  2001806273            486886  Forward charges             121003    d\n",
            "2  2001806408            532484  Forward charges             121003    d\n",
            "3  2001806458            143001  Forward charges             121003    b\n",
            "4  2001807012            515591  Forward charges             121003    d\n"
          ]
        }
      ]
    },
    {
      "cell_type": "markdown",
      "source": [
        "Now let’s merge the pin codes with the main dataframe:"
      ],
      "metadata": {
        "id": "_NGKz_0NMLfB"
      }
    },
    {
      "cell_type": "code",
      "source": [
        "merged2 = merged_data.merge(pincodes, on = 'Order ID')\n",
        "print(merged2.head())"
      ],
      "metadata": {
        "colab": {
          "base_uri": "https://localhost:8080/"
        },
        "id": "QM7mLW0NMuiB",
        "outputId": "8b274cce-3723-4b74-bc51-b0f7ecfe0a86"
      },
      "execution_count": 13,
      "outputs": [
        {
          "output_type": "stream",
          "name": "stdout",
          "text": [
            "     Order ID            SKU  Order Qty  Weight (g)  Customer Pincode  \\\n",
            "0  2001827036  8904223818706        1.0         127            173213   \n",
            "1  2001827036  8904223819093        1.0         150            173213   \n",
            "2  2001827036  8904223819109        1.0         100            173213   \n",
            "3  2001827036  8904223818430        1.0         165            173213   \n",
            "4  2001827036  8904223819277        1.0         350            173213   \n",
            "\n",
            "  Type of Shipment  Warehouse Pincode Zone  \n",
            "0  Forward charges             121003    e  \n",
            "1  Forward charges             121003    e  \n",
            "2  Forward charges             121003    e  \n",
            "3  Forward charges             121003    e  \n",
            "4  Forward charges             121003    e  \n"
          ]
        }
      ]
    },
    {
      "cell_type": "markdown",
      "source": [
        "Now let’s calculate the weight in kilograms by dividing the ‘Weight (g)’ column in the ‘merged2’ DataFrame by 1000"
      ],
      "metadata": {
        "id": "liRZ9wMlNmTI"
      }
    },
    {
      "cell_type": "code",
      "source": [
        "merged2['Weights (Kgs)'] = merged2['Weight (g)'] / 1000"
      ],
      "metadata": {
        "id": "g5V650XvN443"
      },
      "execution_count": 22,
      "outputs": []
    },
    {
      "cell_type": "code",
      "source": [
        "#Now let’s calculate the weight slabs:\n",
        "def weight_slab(weight):\n",
        "    \"\"\"\n",
        "\n",
        "    Args:\n",
        "      weight:\n",
        "\n",
        "    Returns:\n",
        "\n",
        "    \"\"\"\n",
        "    i = round(weight % 1, 1)\n",
        "    if i == 0.0:\n",
        "        return weight\n",
        "    elif i > 0.5:\n",
        "        return int(weight) + 1.0\n",
        "    else:\n",
        "        return int(weight) + 0.5\n",
        "merged2['Weight Slab (KG)'] = merged2['Weights (Kgs)'].apply(weight_slab)\n",
        "courier_invoice['Weight Slab Charged by Courier Company']=(courier_invoice['Charged Weight']).apply(weight_slab)"
      ],
      "metadata": {
        "id": "oWxumvpfPGU_"
      },
      "execution_count": 25,
      "outputs": []
    },
    {
      "cell_type": "markdown",
      "source": [
        "Now let’s rename the columns to prepare the desired dataframe:"
      ],
      "metadata": {
        "id": "7YsIrosSTsOk"
      }
    },
    {
      "cell_type": "code",
      "source": [
        "courier_invoice = courier_invoice.rename(columns={'Zone': 'Delivery Zone Charged by Courier Company'})\n",
        "merged2 = merged2.rename(columns={'Zone': 'Delivery Zone As Per ABC'})\n",
        "merged2 = merged2.rename(columns={'Weight Slab (KG)': 'Weight Slab As Per ABC'})"
      ],
      "metadata": {
        "id": "LW944PqOTvrX"
      },
      "execution_count": 26,
      "outputs": []
    },
    {
      "cell_type": "markdown",
      "source": [
        "Now let’s calculate the expected charges:"
      ],
      "metadata": {
        "id": "bf-xh1_2UJGx"
      }
    },
    {
      "cell_type": "code",
      "source": [
        "total_expected_charge = []\n",
        "\n",
        "for _, row in merged2.iterrows():\n",
        "    fwd_category = 'fwd_' + row['Delivery Zone As Per ABC']\n",
        "    fwd_fixed = courier_company_rates.at[0, fwd_category + '_fixed']\n",
        "    fwd_additional = courier_company_rates.at[0, fwd_category + '_additional']\n",
        "    rto_category = 'rto_' + row['Delivery Zone As Per ABC']\n",
        "    rto_fixed = courier_company_rates.at[0, rto_category + '_fixed']\n",
        "    rto_additional = courier_company_rates.at[0, rto_category + '_additional']\n",
        "\n",
        "    weight_slab = row['Weight Slab As Per ABC']\n",
        "\n",
        "    if row['Type of Shipment'] == 'Forward charges':\n",
        "        additional_weight = max(0, (weight_slab - 0.5) / 0.5)\n",
        "        total_expected_charge.append(fwd_fixed + additional_weight * fwd_additional)\n",
        "    elif row['Type of Shipment'] == 'Forward and RTO charges':\n",
        "        additional_weight = max(0, (weight_slab - 0.5) / 0.5)\n",
        "        total_expected_charge.append(fwd_fixed + additional_weight * (fwd_additional + rto_additional))\n",
        "    else:\n",
        "        total_expected_charge.append(0)\n",
        "\n",
        "merged2['Expected Charge as per ABC'] = total_expected_charge\n",
        "print(merged2.head())"
      ],
      "metadata": {
        "colab": {
          "base_uri": "https://localhost:8080/"
        },
        "id": "5kwqYg7xUKao",
        "outputId": "e5885dac-5206-4097-a4a3-9253c518b3e4"
      },
      "execution_count": 27,
      "outputs": [
        {
          "output_type": "stream",
          "name": "stdout",
          "text": [
            "     Order ID            SKU  Order Qty  Weight (g)  Customer Pincode  \\\n",
            "0  2001827036  8904223818706        1.0         127            173213   \n",
            "1  2001827036  8904223819093        1.0         150            173213   \n",
            "2  2001827036  8904223819109        1.0         100            173213   \n",
            "3  2001827036  8904223818430        1.0         165            173213   \n",
            "4  2001827036  8904223819277        1.0         350            173213   \n",
            "\n",
            "  Type of Shipment  Warehouse Pincode Delivery Zone As Per ABC  weight_kg  \\\n",
            "0  Forward charges             121003                        e      0.127   \n",
            "1  Forward charges             121003                        e      0.150   \n",
            "2  Forward charges             121003                        e      0.100   \n",
            "3  Forward charges             121003                        e      0.165   \n",
            "4  Forward charges             121003                        e      0.350   \n",
            "\n",
            "   Weight_(kgs)  Weights (Kgs)  Weight Slab As Per ABC  \\\n",
            "0         0.127          0.127                     0.5   \n",
            "1         0.150          0.150                     0.5   \n",
            "2         0.100          0.100                     0.5   \n",
            "3         0.165          0.165                     0.5   \n",
            "4         0.350          0.350                     0.5   \n",
            "\n",
            "   Expected Charge as per ABC  \n",
            "0                        56.6  \n",
            "1                        56.6  \n",
            "2                        56.6  \n",
            "3                        56.6  \n",
            "4                        56.6  \n"
          ]
        }
      ]
    },
    {
      "cell_type": "code",
      "source": [
        "merged_output = merged2.merge(courier_invoice, on='Order ID')\n",
        "print(merged_output.head())"
      ],
      "metadata": {
        "colab": {
          "base_uri": "https://localhost:8080/"
        },
        "id": "TJzoEU3xXqH1",
        "outputId": "0209caac-798f-4e1a-b30d-98ad45c18abd"
      },
      "execution_count": 28,
      "outputs": [
        {
          "output_type": "stream",
          "name": "stdout",
          "text": [
            "     Order ID            SKU  Order Qty  Weight (g)  Customer Pincode_x  \\\n",
            "0  2001827036  8904223818706        1.0         127              173213   \n",
            "1  2001827036  8904223819093        1.0         150              173213   \n",
            "2  2001827036  8904223819109        1.0         100              173213   \n",
            "3  2001827036  8904223818430        1.0         165              173213   \n",
            "4  2001827036  8904223819277        1.0         350              173213   \n",
            "\n",
            "  Type of Shipment_x  Warehouse Pincode_x Delivery Zone As Per ABC  weight_kg  \\\n",
            "0    Forward charges               121003                        e      0.127   \n",
            "1    Forward charges               121003                        e      0.150   \n",
            "2    Forward charges               121003                        e      0.100   \n",
            "3    Forward charges               121003                        e      0.165   \n",
            "4    Forward charges               121003                        e      0.350   \n",
            "\n",
            "   Weight_(kgs)  ...  Weight Slab As Per ABC  Expected Charge as per ABC  \\\n",
            "0         0.127  ...                     0.5                        56.6   \n",
            "1         0.150  ...                     0.5                        56.6   \n",
            "2         0.100  ...                     0.5                        56.6   \n",
            "3         0.165  ...                     0.5                        56.6   \n",
            "4         0.350  ...                     0.5                        56.6   \n",
            "\n",
            "        AWB Code  Charged Weight  Warehouse Pincode_y  Customer Pincode_y  \\\n",
            "0  1091122418320             1.6               121003              173213   \n",
            "1  1091122418320             1.6               121003              173213   \n",
            "2  1091122418320             1.6               121003              173213   \n",
            "3  1091122418320             1.6               121003              173213   \n",
            "4  1091122418320             1.6               121003              173213   \n",
            "\n",
            "   Delivery Zone Charged by Courier Company Type of Shipment_y  \\\n",
            "0                                         b    Forward charges   \n",
            "1                                         b    Forward charges   \n",
            "2                                         b    Forward charges   \n",
            "3                                         b    Forward charges   \n",
            "4                                         b    Forward charges   \n",
            "\n",
            "  Billing Amount (Rs.)  Weight Slab Charged by Courier Company  \n",
            "0                117.9                                     2.0  \n",
            "1                117.9                                     2.0  \n",
            "2                117.9                                     2.0  \n",
            "3                117.9                                     2.0  \n",
            "4                117.9                                     2.0  \n",
            "\n",
            "[5 rows x 21 columns]\n"
          ]
        }
      ]
    },
    {
      "cell_type": "markdown",
      "source": [],
      "metadata": {
        "id": "CGQv9Oe7LbEq"
      }
    },
    {
      "cell_type": "markdown",
      "source": [],
      "metadata": {
        "id": "w0hSVPRpLakS"
      }
    }
  ],
  "metadata": {
    "colab": {
      "provenance": [],
      "mount_file_id": "1TY9b8DrSwcfSc62uRmbzhJNpA6sBHBmL",
      "authorship_tag": "ABX9TyMZFcLW8PbjgEtC35zv5yma",
      "include_colab_link": true
    },
    "kernelspec": {
      "display_name": "Python 3",
      "name": "python3"
    },
    "language_info": {
      "name": "python"
    }
  },
  "nbformat": 4,
  "nbformat_minor": 0
}